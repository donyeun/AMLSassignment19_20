{
 "cells": [
  {
   "cell_type": "markdown",
   "metadata": {},
   "source": [
    "# Applied Machine Learning Systems ELEC0134 (19/20) Assignment"
   ]
  },
  {
   "cell_type": "markdown",
   "metadata": {},
   "source": [
    "## Table of Contents:\n",
    "\n",
    "0. Setting Up Environment\n",
    "1. Exploratory Data Analysis\n",
    "2. TASK A1: Gender Detection (Male/Female)"
   ]
  },
  {
   "cell_type": "markdown",
   "metadata": {},
   "source": [
    "## 0. Setting Up Environment\n",
    "\n",
    "Please set this variable to FALSE if you wanted to retrain the model  "
   ]
  },
  {
   "cell_type": "code",
   "execution_count": 1,
   "metadata": {},
   "outputs": [
    {
     "name": "stdout",
     "output_type": "stream",
     "text": [
      "Requirement already satisfied: pandas==0.25.3 in /usr/local/lib/python3.7/site-packages (from -r requirements.txt (line 1)) (0.25.3)\n",
      "Requirement already satisfied: numpy==1.17.4 in /usr/local/lib/python3.7/site-packages (from -r requirements.txt (line 2)) (1.17.4)\n",
      "Requirement already satisfied: matplotlib==3.1.1 in /usr/local/lib/python3.7/site-packages (from -r requirements.txt (line 3)) (3.1.1)\n",
      "Requirement already satisfied: opencv-python in /usr/local/lib/python3.7/site-packages (from -r requirements.txt (line 4)) (4.1.2.30)\n",
      "Requirement already satisfied: Pillow==6.2.1 in /usr/local/lib/python3.7/site-packages (from -r requirements.txt (line 5)) (6.2.1)\n",
      "Requirement already satisfied: scikit_learn==0.21.3 in /usr/local/lib/python3.7/site-packages (from -r requirements.txt (line 6)) (0.21.3)\n",
      "Requirement already satisfied: scikit-image in /usr/local/lib/python3.7/site-packages (from -r requirements.txt (line 7)) (0.16.2)\n",
      "Requirement already satisfied: tqdm==4.39.0 in /usr/local/lib/python3.7/site-packages (from -r requirements.txt (line 8)) (4.39.0)\n",
      "Requirement already satisfied: python-dateutil>=2.6.1 in /usr/local/lib/python3.7/site-packages (from pandas==0.25.3->-r requirements.txt (line 1)) (2.8.1)\n",
      "Requirement already satisfied: pytz>=2017.2 in /usr/local/lib/python3.7/site-packages (from pandas==0.25.3->-r requirements.txt (line 1)) (2019.3)\n",
      "Requirement already satisfied: cycler>=0.10 in /usr/local/lib/python3.7/site-packages (from matplotlib==3.1.1->-r requirements.txt (line 3)) (0.10.0)\n",
      "Requirement already satisfied: kiwisolver>=1.0.1 in /usr/local/lib/python3.7/site-packages (from matplotlib==3.1.1->-r requirements.txt (line 3)) (1.1.0)\n",
      "Requirement already satisfied: pyparsing!=2.0.4,!=2.1.2,!=2.1.6,>=2.0.1 in /usr/local/lib/python3.7/site-packages (from matplotlib==3.1.1->-r requirements.txt (line 3)) (2.4.5)\n",
      "Requirement already satisfied: scipy>=0.17.0 in /usr/local/lib/python3.7/site-packages (from scikit_learn==0.21.3->-r requirements.txt (line 6)) (1.3.3)\n",
      "Requirement already satisfied: joblib>=0.11 in /usr/local/lib/python3.7/site-packages (from scikit_learn==0.21.3->-r requirements.txt (line 6)) (0.14.0)\n",
      "Requirement already satisfied: networkx>=2.0 in /usr/local/lib/python3.7/site-packages (from scikit-image->-r requirements.txt (line 7)) (2.4)\n",
      "Requirement already satisfied: PyWavelets>=0.4.0 in /usr/local/lib/python3.7/site-packages (from scikit-image->-r requirements.txt (line 7)) (1.1.1)\n",
      "Requirement already satisfied: imageio>=2.3.0 in /usr/local/lib/python3.7/site-packages (from scikit-image->-r requirements.txt (line 7)) (2.6.1)\n",
      "Requirement already satisfied: six>=1.5 in /usr/local/lib/python3.7/site-packages (from python-dateutil>=2.6.1->pandas==0.25.3->-r requirements.txt (line 1)) (1.13.0)\n",
      "Requirement already satisfied: setuptools in /usr/local/lib/python3.7/site-packages (from kiwisolver>=1.0.1->matplotlib==3.1.1->-r requirements.txt (line 3)) (41.6.0)\n",
      "Requirement already satisfied: decorator>=4.3.0 in /usr/local/lib/python3.7/site-packages (from networkx>=2.0->scikit-image->-r requirements.txt (line 7)) (4.4.1)\n"
     ]
    }
   ],
   "source": [
    "! pip3 install -r requirements.txt"
   ]
  },
  {
   "cell_type": "markdown",
   "metadata": {},
   "source": [
    "Some general constants that will be used in the code:"
   ]
  },
  {
   "cell_type": "code",
   "execution_count": 16,
   "metadata": {},
   "outputs": [],
   "source": [
    "import csv\n",
    "import cv2\n",
    "import dlib\n",
    "import numpy as np\n",
    "import os\n",
    "import pandas as pd\n",
    "import pickle\n",
    "\n",
    "from collections import Counter\n",
    "from imutils import face_utils\n",
    "from PIL import Image\n",
    "from skimage import color, feature, io\n",
    "from sklearn.metrics import accuracy_score\n",
    "from sklearn.model_selection import train_test_split, GridSearchCV\n",
    "from sklearn.pipeline import make_pipeline\n",
    "from sklearn.preprocessing import StandardScaler\n",
    "from sklearn.svm import SVC, LinearSVC\n",
    "from tqdm import tqdm\n",
    "\n",
    "\n",
    "TEST_DATASET_SIZE_PROPORTION = 0.2\n",
    "K_CROSSVAL = 2\n",
    "CSV_LABEL_SEPARATOR_MARK = '\\t'\n",
    "\n",
    "# TASK A\n",
    "TASK_A_DATASET_DIR = 'Datasets/celeba/img/'\n",
    "TASK_A_LABEL_CSV_FILEPATH = 'Datasets/celeba/labels.csv'\n",
    "TASK_A_X_HEADER_NAME = 'img_name'\n",
    "TASK_A1_Y_HEADER_NAME = 'gender'\n",
    "TASK_A2_Y_HEADER_NAME = 'smiling'\n",
    "TASK_A1_FACE_OUTPUT_DIR  = 'Datasets/processed/celeba_cropped_face/' \n",
    "TASK_A2_MOUTH_OUTPUT_DIR = 'Datasets/processed/celeba_cropped_mouth/'\n",
    "\n",
    "# TASK B\n",
    "TASK_B_DATASET_DIR = 'Datasets/cartoon_set/img/'\n",
    "TASK_B_LABEL_CSV_FILEPATH = 'Datasets/cartoon_set/labels.csv'\n",
    "TASK_B_X_HEADER_NAME = 'file_name'\n",
    "TASK_B1_Y_HEADER_NAME = 'face_shape'\n",
    "TASK_B2_Y_HEADER_NAME = 'eye_color'"
   ]
  },
  {
   "cell_type": "markdown",
   "metadata": {},
   "source": [
    "## 1. Exploratory Data Analysis\n",
    "\n",
    "Firstly, let's take a look at characteristics of our dataset. We'll look at the proportion of each label in our dataset, the pixel dimension of image datasets, and to see if whether we should do some additional preprocessing."
   ]
  },
  {
   "cell_type": "markdown",
   "metadata": {},
   "source": [
    "### 1.1. Proportion of Label"
   ]
  },
  {
   "cell_type": "markdown",
   "metadata": {},
   "source": [
    "#### 1.1.1. Task A1: Gender Detection using Celeba Dataset"
   ]
  },
  {
   "cell_type": "code",
   "execution_count": 2,
   "metadata": {},
   "outputs": [
    {
     "name": "stdout",
     "output_type": "stream",
     "text": [
      "-1    2500\n",
      " 1    2500\n",
      "Name: gender, dtype: int64\n",
      "[[<matplotlib.axes._subplots.AxesSubplot object at 0x1248fe3d0>]]\n"
     ]
    }
   ],
   "source": [
    "task_a_label_df = pd.read_csv(\n",
    "                    TASK_A_LABEL_CSV_FILEPATH,\n",
    "                    sep=CSV_LABEL_SEPARATOR_MARK\n",
    "                )\n",
    "print(task_a_label_df[TASK_A1_Y_HEADER_NAME].value_counts())\n",
    "print(task_a_label_df.hist(column=TASK_A1_Y_HEADER_NAME))"
   ]
  },
  {
   "cell_type": "markdown",
   "metadata": {},
   "source": [
    "***\n",
    "#### 1.1.2. Task A2: Emotion Detection (smiling or not) using Celeba Dataset"
   ]
  },
  {
   "cell_type": "code",
   "execution_count": 3,
   "metadata": {},
   "outputs": [
    {
     "name": "stdout",
     "output_type": "stream",
     "text": [
      "-1    2500\n",
      " 1    2500\n",
      "Name: smiling, dtype: int64\n",
      "[[<matplotlib.axes._subplots.AxesSubplot object at 0x108a4cc90>]]\n"
     ]
    },
    {
     "data": {
      "image/png": "[encoded data removed]",
      "text/plain": [
       "<Figure size 432x288 with 1 Axes>"
      ]
     },
     "metadata": {
      "needs_background": "light"
     },
     "output_type": "display_data"
    }
   ],
   "source": [
    "print(task_a_label_df[TASK_A2_Y_HEADER_NAME].value_counts())\n",
    "print(task_a_label_df.hist(column=TASK_A2_Y_HEADER_NAME))"
   ]
  },
  {
   "cell_type": "markdown",
   "metadata": {},
   "source": [
    "***\n",
    "#### 1.1.3. Task B1: Face Shape Recognition using Cartoonset Dataset"
   ]
  },
  {
   "cell_type": "code",
   "execution_count": 7,
   "metadata": {},
   "outputs": [
    {
     "name": "stdout",
     "output_type": "stream",
     "text": [
      "4    2000\n",
      "3    2000\n",
      "2    2000\n",
      "1    2000\n",
      "0    2000\n",
      "Name: face_shape, dtype: int64\n",
      "[[<matplotlib.axes._subplots.AxesSubplot object at 0x124f67a50>]]\n"
     ]
    },
    {
     "data": {
      "image/png": "[encoded data removed]",
      "text/plain": [
       "<Figure size 432x288 with 1 Axes>"
      ]
     },
     "metadata": {
      "needs_background": "light"
     },
     "output_type": "display_data"
    }
   ],
   "source": [
    "task_b_label_df = pd.read_csv(\n",
    "                    TASK_B_LABEL_CSV_FILEPATH,\n",
    "                    sep=CSV_LABEL_SEPARATOR_MARK\n",
    "                )\n",
    "print(task_b_label_df[TASK_B1_Y_HEADER_NAME].value_counts())\n",
    "print(task_b_label_df.hist(column=TASK_B1_Y_HEADER_NAME))"
   ]
  },
  {
   "cell_type": "markdown",
   "metadata": {},
   "source": [
    "***\n",
    "#### 1.1.4. Task B2: Eye Colour Recognition using Cartoonset Dataset"
   ]
  },
  {
   "cell_type": "code",
   "execution_count": 8,
   "metadata": {},
   "outputs": [
    {
     "name": "stdout",
     "output_type": "stream",
     "text": [
      "1    2018\n",
      "4    2017\n",
      "0    2004\n",
      "3    1992\n",
      "2    1969\n",
      "Name: eye_color, dtype: int64\n",
      "[[<matplotlib.axes._subplots.AxesSubplot object at 0x125714c90>]]\n"
     ]
    },
    {
     "data": {
      "image/png": "[encoded data removed]",
      "text/plain": [
       "<Figure size 432x288 with 1 Axes>"
      ]
     },
     "metadata": {
      "needs_background": "light"
     },
     "output_type": "display_data"
    }
   ],
   "source": [
    "print(task_b_label_df[TASK_B2_Y_HEADER_NAME].value_counts())\n",
    "print(task_b_label_df.hist(column=TASK_B2_Y_HEADER_NAME))"
   ]
  },
  {
   "cell_type": "markdown",
   "metadata": {},
   "source": [
    "***\n",
    "Now, let's look at the dimension of each image in our two datasets, to see if whether we should do preprocessing to make the image size uniform."
   ]
  },
  {
   "cell_type": "markdown",
   "metadata": {},
   "source": [
    "### 1.2. Pixel Dimension of Image Dataset"
   ]
  },
  {
   "cell_type": "markdown",
   "metadata": {},
   "source": [
    "#### 1.2.1. Task A Dataset"
   ]
  },
  {
   "cell_type": "code",
   "execution_count": 17,
   "metadata": {},
   "outputs": [],
   "source": [
    "def check_pixel_size_in_dataset(dataset_foldername, filename_list):\n",
    "    pixel_size_list = []\n",
    "    for filename in filename_list:\n",
    "        filepath = os.path.join(dataset_foldername, filename)\n",
    "        width, height = Image.open(filepath).size\n",
    "        pixel_size_list.append(str(width) + \", \" + str(height))\n",
    "    pixel_size_df = pd.DataFrame(pixel_size_list, columns=['img_dimension'])\n",
    "    print(pixel_size_df['img_dimension'].value_counts())\n",
    "    return pixel_size_df['img_dimension'].value_counts(), pixel_size_df['img_dimension'].hist()"
   ]
  },
  {
   "cell_type": "code",
   "execution_count": 18,
   "metadata": {},
   "outputs": [
    {
     "name": "stdout",
     "output_type": "stream",
     "text": [
      "178, 218    5000\n",
      "Name: img_dimension, dtype: int64\n"
     ]
    },
    {
     "data": {
      "text/plain": [
       "(178, 218    5000\n",
       " Name: img_dimension, dtype: int64,\n",
       " <matplotlib.axes._subplots.AxesSubplot at 0x125998550>)"
      ]
     },
     "execution_count": 18,
     "metadata": {},
     "output_type": "execute_result"
    },
    {
     "data": {
      "image/png": "[encoded data removed]",
      "text/plain": [
       "<Figure size 432x288 with 1 Axes>"
      ]
     },
     "metadata": {
      "needs_background": "light"
     },
     "output_type": "display_data"
    }
   ],
   "source": [
    "task_a_img_filename_list = task_a_label_df[TASK_A_X_HEADER_NAME]\n",
    "check_pixel_size_in_dataset(TASK_A_DATASET_DIR, task_a_img_filename_list)"
   ]
  },
  {
   "cell_type": "markdown",
   "metadata": {},
   "source": [
    "#### 1.2.2. Task B Dataset"
   ]
  },
  {
   "cell_type": "code",
   "execution_count": 9,
   "metadata": {},
   "outputs": [
    {
     "name": "stdout",
     "output_type": "stream",
     "text": [
      "500, 500    10000\n",
      "Name: img_dimension, dtype: int64\n"
     ]
    },
    {
     "data": {
      "text/plain": [
       "(500, 500    10000\n",
       " Name: img_dimension, dtype: int64,\n",
       " <matplotlib.axes._subplots.AxesSubplot at 0x125971b10>)"
      ]
     },
     "execution_count": 9,
     "metadata": {},
     "output_type": "execute_result"
    },
    {
     "data": {
      "image/png": "[encoded data removed]",
      "text/plain": [
       "<Figure size 432x288 with 1 Axes>"
      ]
     },
     "metadata": {
      "needs_background": "light"
     },
     "output_type": "display_data"
    }
   ],
   "source": [
    "task_b_img_filename_list = task_b_label_df[TASK_B_X_HEADER_NAME]\n",
    "check_pixel_size_in_dataset(TASK_B_DATASET_DIR, task_b_img_filename_list)"
   ]
  },
  {
   "cell_type": "markdown",
   "metadata": {},
   "source": [
    "***\n",
    "### 1.3. Conclusion from Exploratory Data Analysis\n",
    "From the exploratory data analysis, we learn that the ratio/proportion of each label in dataset is already good, so we don't need to preprocess the dataset to even out the ratio.\n",
    "\n",
    "***"
   ]
  },
  {
   "cell_type": "markdown",
   "metadata": {},
   "source": [
    "## 2. TASK A1: Gender Detection (Male/Female)\n",
    "\n",
    "In this binary classification task, we are going to use the `celeba` dataset to detect gender from the face image dataset."
   ]
  },
  {
   "cell_type": "markdown",
   "metadata": {},
   "source": [
    "### 2.1. Load the Dataset\n",
    "\n",
    "Firstly we wanted to load the dataset. Separating training and testing dataset will be done in later process.\n"
   ]
  },
  {
   "cell_type": "code",
   "execution_count": 19,
   "metadata": {},
   "outputs": [],
   "source": [
    "def determine_X_and_Y_set_from_label_file(label_csv_filepath, x_header_name, y_header_name, delimiter=CSV_LABEL_SEPARATOR_MARK):\n",
    "    \"\"\"Determine the X (the input features) and the Y (label) from a CSV file\n",
    "    \"\"\"\n",
    "    X = []\n",
    "    Y = []\n",
    "    with open(label_csv_filepath) as csv_file:\n",
    "        data = csv.DictReader(csv_file, delimiter=delimiter)\n",
    "        for row in data:\n",
    "            X.append(row[x_header_name])\n",
    "            Y.append(row[y_header_name])\n",
    "    return X, Y"
   ]
  },
  {
   "cell_type": "code",
   "execution_count": 20,
   "metadata": {},
   "outputs": [],
   "source": [
    "X, Y = determine_X_and_Y_set_from_label_file(\n",
    "    TASK_A_LABEL_CSV_FILEPATH,\n",
    "    TASK_A_X_HEADER_NAME,\n",
    "    TASK_A1_Y_HEADER_NAME\n",
    ")"
   ]
  },
  {
   "cell_type": "markdown",
   "metadata": {},
   "source": [
    "### 2.2. Cropping the Person's Face from the Image"
   ]
  },
  {
   "cell_type": "code",
   "execution_count": 23,
   "metadata": {},
   "outputs": [],
   "source": [
    "def hog_face_detector(input_dir, img_filename, face_detector, output_dir):\n",
    "    \"\"\"Detect face using HOG\n",
    "    \"\"\"\n",
    "    img_filepath = os.path.join(input_dir, img_filename)\n",
    "    img = cv2.imread(img_filepath)\n",
    "    \n",
    "    rects = face_detector(img, 1)\n",
    "    for (i, rect) in enumerate(rects):\n",
    "        (x, y, w, h) = face_utils.rect_to_bb(rect)\n",
    "        cropped_img = img[\n",
    "            y:y+h,\n",
    "            x:x+w,\n",
    "        ]\n",
    "\n",
    "        cv2.imwrite(os.path.join(output_dir, img_filename), cropped_img)"
   ]
  },
  {
   "cell_type": "code",
   "execution_count": 24,
   "metadata": {},
   "outputs": [
    {
     "name": "stderr",
     "output_type": "stream",
     "text": [
      "100%|██████████| 5000/5000 [01:57<00:00, 42.44it/s]\n"
     ]
    }
   ],
   "source": [
    "face_detector = dlib.get_frontal_face_detector()\n",
    "\n",
    "for X_filename in tqdm(X):\n",
    "    hog_face_detector(\n",
    "        input_dir = TASK_A_DATASET_DIR,\n",
    "        img_filename = X_filename,\n",
    "        face_detector = face_detector,\n",
    "        output_dir = TASK_A1_FACE_OUTPUT_DIR,\n",
    "    )"
   ]
  },
  {
   "cell_type": "markdown",
   "metadata": {},
   "source": [
    "### 2.3. Divide into Training and Testing Dataset¶\n",
    "\n",
    "There will be some images where the mouth is undetected. In this case, we are unable to use that particular image.\n",
    "After deciding which of data can be used, we are then going to divide the dataset into either training or testing set."
   ]
  },
  {
   "cell_type": "code",
   "execution_count": 27,
   "metadata": {},
   "outputs": [
    {
     "name": "stdout",
     "output_type": "stream",
     "text": [
      "training data :  3864\n",
      "testing data  :  967\n"
     ]
    }
   ],
   "source": [
    "cropped_img_filenames = os.listdir(TASK_A1_FACE_OUTPUT_DIR)\n",
    "\n",
    "X_cropped = []\n",
    "Y_cropped = []\n",
    "for ori_img_filename in X:\n",
    "    if ori_img_filename in cropped_img_filenames:\n",
    "        X_cropped.append(ori_img_filename)\n",
    "        row_num = X.index(ori_img_filename)\n",
    "        Y_cropped.append(Y[row_num])\n",
    "\n",
    "X_train_filenames, X_test_filenames, Y_train, Y_test = train_test_split(\n",
    "    X_cropped, Y_cropped, test_size=TEST_DATASET_SIZE_PROPORTION, random_state=42,\n",
    ")\n",
    "\n",
    "print(\"training data : \", len(X_train_filenames))\n",
    "print(\"testing data  : \", len(X_test_filenames))"
   ]
  },
  {
   "cell_type": "markdown",
   "metadata": {},
   "source": [
    "### 2.4. Local Binary Pattern (LBP) + Histogram\n",
    "\n",
    "As part of the feature engineering, we are going to convert raw images into greyscale. The next process is to determine the LBP. After that, the final step is to output the resulted histogram. This (standardised, which will be done later) histogram is going to be the feature that will be used to be fitted into training process."
   ]
  },
  {
   "cell_type": "code",
   "execution_count": 28,
   "metadata": {},
   "outputs": [],
   "source": [
    "def convert_raw_images_to_lbp_histograms(image_dir, image_filenames, lbp_params):\n",
    "    \"\"\"Extract LBP histograms from raw images \n",
    "    \"\"\"\n",
    "    hists = []\n",
    "    for filename in tqdm(image_filenames):\n",
    "        filepath = os.path.join(image_dir, filename)\n",
    "\n",
    "        # load the image file\n",
    "        image = io.imread(filepath)\n",
    "\n",
    "        # convert RGB image into greyscale\n",
    "        grey_image = color.rgb2grey(image)\n",
    "\n",
    "        # convert greyscale image into lbp features\n",
    "        lbp_image = feature.local_binary_pattern(\n",
    "            grey_image,\n",
    "            lbp_params['n_points'],\n",
    "            lbp_params['radius'],\n",
    "            lbp_params['method'],\n",
    "        )\n",
    "\n",
    "        # convert lbp features into histogram\n",
    "        n_bins = int(lbp_image.max() + 1)\n",
    "        hist, _ = np.histogram(\n",
    "            lbp_image.ravel(),\n",
    "            bins=n_bins,\n",
    "            range=(0, n_bins)\n",
    "        )\n",
    "        hists.append(hist)\n",
    "    return hists"
   ]
  },
  {
   "cell_type": "code",
   "execution_count": 29,
   "metadata": {},
   "outputs": [
    {
     "name": "stderr",
     "output_type": "stream",
     "text": [
      "100%|██████████| 3864/3864 [00:13<00:00, 286.11it/s]\n"
     ]
    }
   ],
   "source": [
    "LBP_PARAMS = {\n",
    "    'n_points': 8,\n",
    "    'radius'  : 1,\n",
    "    'method'  : 'default',\n",
    "#     'method'  : 'uniform',\n",
    "#     'method'  : 'ror',\n",
    "}\n",
    "    \n",
    "X_train_hists = convert_raw_images_to_lbp_histograms(\n",
    "    TASK_A1_FACE_OUTPUT_DIR,\n",
    "    X_train_filenames,\n",
    "    LBP_PARAMS,\n",
    ")\n"
   ]
  },
  {
   "cell_type": "markdown",
   "metadata": {},
   "source": [
    "### 2.5. SVM Classifier Parameter Tuning\n",
    "The next thing to do is to use the histogram features and fit it into an SVM classifier.<br>\n",
    "We are going to use grid search and k-fold cross validation, which is `GridSearchCV` function in Scikit Learn"
   ]
  },
  {
   "cell_type": "code",
   "execution_count": 32,
   "metadata": {},
   "outputs": [
    {
     "name": "stdout",
     "output_type": "stream",
     "text": [
      "training SVM (and save the resulted model afterwards to a local pickle file)\n",
      "Fitting 2 folds for each of 3 candidates, totalling 6 fits\n"
     ]
    },
    {
     "name": "stderr",
     "output_type": "stream",
     "text": [
      "[Parallel(n_jobs=-1)]: Using backend LokyBackend with 4 concurrent workers.\n",
      "[Parallel(n_jobs=-1)]: Done   3 out of   6 | elapsed:  7.6min remaining:  7.6min\n",
      "[Parallel(n_jobs=-1)]: Done   6 out of   6 | elapsed: 20.8min finished\n",
      "/usr/local/lib/python3.7/site-packages/sklearn/svm/base.py:929: ConvergenceWarning: Liblinear failed to converge, increase the number of iterations.\n",
      "  \"the number of iterations.\", ConvergenceWarning)\n"
     ]
    }
   ],
   "source": [
    "# if local model exists, use them instead of retraining it\n",
    "# otherwise, train the SVM model with gridsearch+k-fold CV\n",
    "try:\n",
    "    TASK_A1_MODELS_PKL_FILEPATH = 'models/task_a1_dec_15_v2.pkl'\n",
    "    clf = pickle.load(\n",
    "        open(TASK_A1_MODELS_PKL_FILEPATH, \"rb\")\n",
    "    )\n",
    "    print(\"local model is found and being used instead of retraining the model\")\n",
    "except (OSError, IOError) as e:\n",
    "    print(\"training SVM (and save the resulted model afterwards to a local pickle file)\")\n",
    "    # SVM hyperparameter tuning\n",
    "#     svm_param_candidates = [\n",
    "# #         {\n",
    "# #             'kernel': ['rbf'],\n",
    "# #             'gamma' : [1e-3, 1e-4],\n",
    "# #     #         'C'     : [1],\n",
    "# #             'C'     : [1, 10, 100, 1000]\n",
    "# #         },\n",
    "#         {\n",
    "#             'kernel': ['linear'],\n",
    "#             'C'     : [1],\n",
    "# #             'C'     : [1, 10, 100, 1000]\n",
    "#         }\n",
    "#     ]\n",
    "    svm_param_candidates = [\n",
    "        {\n",
    "            'C'     : [1, 10, 100],\n",
    "        },\n",
    "    ]\n",
    "\n",
    "\n",
    "    # Do grid search and k-cross validation to SVM Classifier\n",
    "    \n",
    "    clf = make_pipeline(\n",
    "        StandardScaler(),\n",
    "        GridSearchCV(\n",
    "            LinearSVC(max_iter=1000000),\n",
    "#             SVC(),\n",
    "            svm_param_candidates,\n",
    "            cv = K_CROSSVAL,\n",
    "            iid = False, # suggested value from sklearn\n",
    "            n_jobs = -1,\n",
    "            verbose = 4,\n",
    "        ),\n",
    "    )\n",
    "#     clf = GridSearchCV(\n",
    "# #         LinearSVC(),\n",
    "#         SVC(),\n",
    "#         svm_param_candidates,\n",
    "#         cv = K_CROSSVAL,\n",
    "#         iid = False, # suggested value from sklearn\n",
    "#         n_jobs = -1,\n",
    "#         verbose = 4,\n",
    "#     )\n",
    "#     from sklearn.svm import LinearSVC\n",
    "#     clf = LinearSVC(random_state=0, tol=1e-5, C=10, verbose=True, max_iter=10000)\n",
    "#     from sklearn import preprocessing\n",
    "    # # buang\n",
    "#     X_train_hists = X_train_hists[:250]\n",
    "#     Y_train = Y_train[:250]\n",
    "    clf.fit(X_train_hists, Y_train)\n",
    "    \n",
    "    # save all the models resulted to a local pickle\n",
    "    pickle.dump(\n",
    "        clf,\n",
    "        open(TASK_A1_MODELS_PKL_FILEPATH, \"wb\")\n",
    "    )"
   ]
  },
  {
   "cell_type": "code",
   "execution_count": 33,
   "metadata": {},
   "outputs": [
    {
     "ename": "AttributeError",
     "evalue": "'Pipeline' object has no attribute 'best_params_'",
     "output_type": "error",
     "traceback": [
      "\u001b[0;31m---------------------------------------------------------------------------\u001b[0m",
      "\u001b[0;31mAttributeError\u001b[0m                            Traceback (most recent call last)",
      "\u001b[0;32m<ipython-input-33-1994c93dfb4d>\u001b[0m in \u001b[0;36m<module>\u001b[0;34m\u001b[0m\n\u001b[1;32m      1\u001b[0m \u001b[0;31m# Best parameters and best result on development set\u001b[0m\u001b[0;34m\u001b[0m\u001b[0;34m\u001b[0m\u001b[0;34m\u001b[0m\u001b[0m\n\u001b[0;32m----> 2\u001b[0;31m \u001b[0mprint\u001b[0m\u001b[0;34m(\u001b[0m\u001b[0;34m'best params : '\u001b[0m\u001b[0;34m,\u001b[0m \u001b[0mclf\u001b[0m\u001b[0;34m.\u001b[0m\u001b[0mbest_params_\u001b[0m\u001b[0;34m)\u001b[0m\u001b[0;34m\u001b[0m\u001b[0;34m\u001b[0m\u001b[0m\n\u001b[0m\u001b[1;32m      3\u001b[0m \u001b[0mprint\u001b[0m\u001b[0;34m(\u001b[0m\u001b[0;34m'mean        : '\u001b[0m\u001b[0;34m,\u001b[0m \u001b[0mclf\u001b[0m\u001b[0;34m.\u001b[0m\u001b[0mcv_results_\u001b[0m\u001b[0;34m[\u001b[0m\u001b[0;34m'mean_test_score'\u001b[0m\u001b[0;34m]\u001b[0m\u001b[0;34m)\u001b[0m\u001b[0;34m\u001b[0m\u001b[0;34m\u001b[0m\u001b[0m\n\u001b[1;32m      4\u001b[0m \u001b[0mprint\u001b[0m\u001b[0;34m(\u001b[0m\u001b[0;34m'stdev       : '\u001b[0m\u001b[0;34m,\u001b[0m \u001b[0mclf\u001b[0m\u001b[0;34m.\u001b[0m\u001b[0mcv_results_\u001b[0m\u001b[0;34m[\u001b[0m\u001b[0;34m'std_test_score'\u001b[0m\u001b[0;34m]\u001b[0m\u001b[0;34m)\u001b[0m\u001b[0;34m\u001b[0m\u001b[0;34m\u001b[0m\u001b[0m\n\u001b[1;32m      5\u001b[0m \u001b[0mprint\u001b[0m\u001b[0;34m(\u001b[0m\u001b[0;34m'params      : '\u001b[0m\u001b[0;34m,\u001b[0m \u001b[0mclf\u001b[0m\u001b[0;34m.\u001b[0m\u001b[0mcv_results_\u001b[0m\u001b[0;34m[\u001b[0m\u001b[0;34m'params'\u001b[0m\u001b[0;34m]\u001b[0m\u001b[0;34m)\u001b[0m\u001b[0;34m\u001b[0m\u001b[0;34m\u001b[0m\u001b[0m\n",
      "\u001b[0;31mAttributeError\u001b[0m: 'Pipeline' object has no attribute 'best_params_'"
     ]
    }
   ],
   "source": [
    "# Best parameters and best result on development set\n",
    "print('best params : ', clf.best_params_)\n",
    "print('mean        : ', clf.cv_results_['mean_test_score'])\n",
    "print('stdev       : ', clf.cv_results_['std_test_score'])\n",
    "print('params      : ', clf.cv_results_['params'])\n",
    "print('best estimator: ', clf.best_estimator_)\n",
    "\n",
    "print(clf)"
   ]
  },
  {
   "cell_type": "markdown",
   "metadata": {},
   "source": [
    "### 2.6. Inference\n",
    "\n",
    "Now that the training process is done and we have the model, we will see the accuracy score of this selected model by using testing dataset that the model has never seen before."
   ]
  },
  {
   "cell_type": "code",
   "execution_count": 35,
   "metadata": {},
   "outputs": [
    {
     "name": "stderr",
     "output_type": "stream",
     "text": [
      "100%|██████████| 967/967 [00:03<00:00, 287.31it/s]"
     ]
    },
    {
     "name": "stdout",
     "output_type": "stream",
     "text": [
      "acc score  0.766287487073423\n"
     ]
    },
    {
     "name": "stderr",
     "output_type": "stream",
     "text": [
      "\n"
     ]
    }
   ],
   "source": [
    "X_test_hists = convert_raw_images_to_lbp_histograms(\n",
    "    TASK_A1_FACE_OUTPUT_DIR,\n",
    "    X_test_filenames,\n",
    "    LBP_PARAMS,\n",
    ")\n",
    "\n",
    "\n",
    "Y_pred = clf.predict(X_test_hists)\n",
    "print(\"acc score \", accuracy_score(Y_test, Y_pred))"
   ]
  },
  {
   "cell_type": "markdown",
   "metadata": {},
   "source": [
    "## 3. TASK A2: Emotion Detection (Smiling/Not Smiling)\n",
    "\n",
    "In this binary classification task, we are going to use the `celeba` dataset again to detect whether the person on the photo is smiling or not"
   ]
  },
  {
   "cell_type": "markdown",
   "metadata": {},
   "source": [
    "### 3.1. Load the Dataset\n",
    "\n",
    "Firstly we wanted to load the dataset. Separating training and testing dataset will be done in later process."
   ]
  },
  {
   "cell_type": "code",
   "execution_count": 38,
   "metadata": {},
   "outputs": [],
   "source": [
    "X, Y = determine_X_and_Y_set_from_label_file(\n",
    "    TASK_A_LABEL_CSV_FILEPATH,\n",
    "    TASK_A_X_HEADER_NAME,\n",
    "    TASK_A2_Y_HEADER_NAME\n",
    ")"
   ]
  },
  {
   "cell_type": "markdown",
   "metadata": {},
   "source": [
    "### 3.2. Cropping the Person's Lip from the Image\n",
    "\n",
    "We are going to crop the lip/mouth from the image, using the Haar Cascade. The cropped image will be saved in a dedicated folder."
   ]
  },
  {
   "cell_type": "code",
   "execution_count": null,
   "metadata": {},
   "outputs": [],
   "source": [
    "$$$WAIT, coba pikirin ulang tentang reusing pickle filenya, soalnya\n",
    "kan ntar jadi ada data testing yg muncul lagi (karena train/test splitting)\n",
    "\n",
    "harus ditulis bahwa for the purpose of presentation alias\n",
    "feasibility to present the result in short time (without having to wait\n",
    "        hours and hours, we're going to use pickle and train/test split yg ga random)"
   ]
  },
  {
   "cell_type": "code",
   "execution_count": 17,
   "metadata": {},
   "outputs": [],
   "source": [
    "def haar_cascade_object_cropping(input_dir, img_filename, haar_cascade_filepath, scale_factor, min_neighbors, output_dir):\n",
    "    \"\"\"Detect object that matters using Haar Cascade, crop the image, then save the cropped image to a local folder\n",
    "    \"\"\"\n",
    "    img_filepath = os.path.join(input_dir, img_filename)\n",
    "    right_eye_cascade = cv2.CascadeClassifier(haar_cascade_filepath)\n",
    "    img = cv2.imread(img_filepath)\n",
    "#     $$$# https://stackoverflow.com/questions/20801015/recommended-values-for-opencv-detectmultiscale-parameters\n",
    "    obj = right_eye_cascade.detectMultiScale(img, scale_factor, min_neighbors)\n",
    "    for (x, y, w, h) in obj:\n",
    "        cropped_img = img[y:y+h, x:x+w]\n",
    "        cropped_img = cv2.resize(cropped_img, dsize=(42, 26))\n",
    "#         cropped_img = cropped_img.resize((42,26), Image.ANTIALIAS)\n",
    "        cv2.imwrite(os.path.join(output_dir, img_filename), cropped_img)"
   ]
  },
  {
   "cell_type": "code",
   "execution_count": 18,
   "metadata": {},
   "outputs": [
    {
     "name": "stderr",
     "output_type": "stream",
     "text": [
      "100%|██████████| 5000/5000 [01:41<00:00, 49.44it/s]\n"
     ]
    }
   ],
   "source": [
    "# haarcascade_mouth_filepath = 'haarcascades/haarcascade_mcs_mouth.xml'\n",
    "\n",
    "# scale_factor = 1.7\n",
    "# min_neighbors = 3\n",
    "\n",
    "# for X_filename in tqdm(X):\n",
    "#     haar_cascade_object_cropping(\n",
    "#         input_dir = TASK_A_DATASET_DIR,\n",
    "#         img_filename = X_filename,\n",
    "#         haar_cascade_filepath = haarcascade_mouth_filepath,\n",
    "#         scale_factor = scale_factor,\n",
    "#         min_neighbors = min_neighbors,\n",
    "#         output_dir = TASK_A2_MOUTH_OUTPUT_DIR,\n",
    "#     )"
   ]
  },
  {
   "cell_type": "code",
   "execution_count": 8,
   "metadata": {},
   "outputs": [],
   "source": [
    "def hog_mouth_detector(input_dir, img_filename, face_detector, shape_predictor, output_dir):\n",
    "    \"\"\"Detect mouth using HOG\n",
    "    \"\"\"  \n",
    "    # https://www.pyimagesearch.com/2017/04/10/detect-eyes-nose-lips-jaw-dlib-opencv-python/\n",
    "    mouth_point_start = 48\n",
    "    mouth_point_end = 68\n",
    "    \n",
    "    img_filepath = os.path.join(input_dir, img_filename)\n",
    "    img = cv2.imread(img_filepath)\n",
    "    \n",
    "    rects = face_detector(img, 1)\n",
    "    for (i, rect) in enumerate(rects):\n",
    "        shape = shape_predictor(img, rect)\n",
    "        \n",
    "        mouth_x_points = [shape.part(nth_point).x for nth_point in range(mouth_point_start, mouth_point_end)]\n",
    "        mouth_y_points = [shape.part(nth_point).y for nth_point in range(mouth_point_start, mouth_point_end)]\n",
    "\n",
    "        max_x = max(mouth_x_points)\n",
    "        min_x = min(mouth_x_points)\n",
    "        max_y = max(mouth_y_points)\n",
    "        min_y = min(mouth_y_points)\n",
    "        extra = 3\n",
    "\n",
    "        cropped_img = img[\n",
    "                min_y - extra:max_y + extra,\n",
    "                min_x - extra:max_x + extra,\n",
    "        ]\n",
    "\n",
    "#         cropped_img = cv2.resize(cropped_img, dsize=(42, 26))\n",
    "#         cropped_img = cropped_img.resize((42,26), Image.ANTIALIAS)\n",
    "        cv2.imwrite(os.path.join(output_dir, img_filename), cropped_img)\n"
   ]
  },
  {
   "cell_type": "code",
   "execution_count": 13,
   "metadata": {},
   "outputs": [
    {
     "name": "stderr",
     "output_type": "stream",
     "text": [
      "  0%|          | 0/5000 [00:00<?, ?it/s]\n"
     ]
    },
    {
     "ename": "NameError",
     "evalue": "name 'hog_mouth_detector' is not defined",
     "output_type": "error",
     "traceback": [
      "\u001b[0;31m---------------------------------------------------------------------------\u001b[0m",
      "\u001b[0;31mNameError\u001b[0m                                 Traceback (most recent call last)",
      "\u001b[0;32m<ipython-input-13-ff8212da3ce4>\u001b[0m in \u001b[0;36m<module>\u001b[0;34m\u001b[0m\n\u001b[1;32m      3\u001b[0m \u001b[0;34m\u001b[0m\u001b[0m\n\u001b[1;32m      4\u001b[0m \u001b[0;32mfor\u001b[0m \u001b[0mX_filename\u001b[0m \u001b[0;32min\u001b[0m \u001b[0mtqdm\u001b[0m\u001b[0;34m(\u001b[0m\u001b[0mX\u001b[0m\u001b[0;34m)\u001b[0m\u001b[0;34m:\u001b[0m\u001b[0;34m\u001b[0m\u001b[0;34m\u001b[0m\u001b[0m\n\u001b[0;32m----> 5\u001b[0;31m     hog_mouth_detector(\n\u001b[0m\u001b[1;32m      6\u001b[0m         \u001b[0minput_dir\u001b[0m \u001b[0;34m=\u001b[0m \u001b[0mTASK_A_DATASET_DIR\u001b[0m\u001b[0;34m,\u001b[0m\u001b[0;34m\u001b[0m\u001b[0;34m\u001b[0m\u001b[0m\n\u001b[1;32m      7\u001b[0m         \u001b[0mimg_filename\u001b[0m \u001b[0;34m=\u001b[0m \u001b[0mX_filename\u001b[0m\u001b[0;34m,\u001b[0m\u001b[0;34m\u001b[0m\u001b[0;34m\u001b[0m\u001b[0m\n",
      "\u001b[0;31mNameError\u001b[0m: name 'hog_mouth_detector' is not defined"
     ]
    }
   ],
   "source": [
    "face_detector = dlib.get_frontal_face_detector()\n",
    "\n",
    "SHAPE_PREDICTOR_68_FACE_LANDMARKS_FILEPATH = \"models/shape_predictor_68_face_landmarks.dat\"\n",
    "shape_predictor = dlib.shape_predictor(SHAPE_PREDICTOR_68_FACE_LANDMARKS_FILEPATH)\n",
    "\n",
    "for X_filename in tqdm(X):\n",
    "    hog_mouth_detector(\n",
    "        input_dir = TASK_A_DATASET_DIR,\n",
    "        img_filename = X_filename,\n",
    "        face_detector = face_detector,\n",
    "        shape_predictor = shape_predictor,\n",
    "        output_dir = TASK_A2_MOUTH_OUTPUT_DIR,\n",
    "    )"
   ]
  },
  {
   "cell_type": "markdown",
   "metadata": {},
   "source": [
    "### 3.3. Divide into Training and Testing Dataset\n",
    "\n",
    "There will be some images where the mouth is undetected. In this case, we are unable to use that particular image.<br>\n",
    "\n",
    "After deciding which of data can be used, we are then going to divide the dataset into either training or testing set."
   ]
  },
  {
   "cell_type": "code",
   "execution_count": 39,
   "metadata": {},
   "outputs": [
    {
     "name": "stdout",
     "output_type": "stream",
     "text": [
      "training data :  3864\n",
      "testing data  :  967\n"
     ]
    }
   ],
   "source": [
    "cropped_img_filenames = os.listdir(TASK_A2_MOUTH_OUTPUT_DIR)\n",
    "\n",
    "X_cropped = []\n",
    "Y_cropped = []\n",
    "for ori_img_filename in X:\n",
    "    if ori_img_filename in cropped_img_filenames:\n",
    "        X_cropped.append(ori_img_filename)\n",
    "        row_num = X.index(ori_img_filename)\n",
    "        Y_cropped.append(Y[row_num])\n",
    "\n",
    "X_train_filenames, X_test_filenames, Y_train, Y_test = train_test_split(\n",
    "    X_cropped, Y_cropped, test_size=TEST_DATASET_SIZE_PROPORTION, random_state=42,\n",
    ")\n",
    "\n",
    "print(\"training data : \", len(X_train_filenames))\n",
    "print(\"testing data  : \", len(X_test_filenames))"
   ]
  },
  {
   "cell_type": "markdown",
   "metadata": {},
   "source": [
    "### 3.4. Local Binary Pattern (LBP) + Histogram\n",
    "\n",
    "As part of the feature engineering, we are going to convert raw images into greyscale. The next process is to determine the LBP. After that, the final step is to output the resulted histogram. This (standardised, which will be done later) histogram is going to be the feature that will be used to be fitted into training process."
   ]
  },
  {
   "cell_type": "code",
   "execution_count": 56,
   "metadata": {},
   "outputs": [
    {
     "name": "stderr",
     "output_type": "stream",
     "text": [
      "100%|██████████| 3864/3864 [00:06<00:00, 564.07it/s]\n"
     ]
    }
   ],
   "source": [
    "LBP_PARAMS = {\n",
    "    'n_points': 8,\n",
    "    'radius'  : 1,\n",
    "    'method'  : 'default',\n",
    "#     'method'  : 'uniform',\n",
    "#     'method'  : 'ror',\n",
    "}\n",
    "    \n",
    "X_train_hists = convert_raw_images_to_lbp_histograms(\n",
    "    TASK_A2_MOUTH_OUTPUT_DIR,\n",
    "    X_train_filenames,\n",
    "    LBP_PARAMS,\n",
    ")\n",
    "\n"
   ]
  },
  {
   "cell_type": "markdown",
   "metadata": {},
   "source": [
    "### 3.5. SVM Classifier Parameter Tuning\n",
    "The next thing to do is to use the histogram features and fit it into an SVM classifier.<br>\n",
    "We are going to use grid search and k-fold cross validation, which is `GridSearchCV` function in Scikit Learn."
   ]
  },
  {
   "cell_type": "code",
   "execution_count": 58,
   "metadata": {},
   "outputs": [
    {
     "name": "stdout",
     "output_type": "stream",
     "text": [
      "training SVM (and save the resulted model afterwards to a local pickle file)\n",
      "Fitting 3 folds for each of 43 candidates, totalling 129 fits\n"
     ]
    },
    {
     "name": "stderr",
     "output_type": "stream",
     "text": [
      "[Parallel(n_jobs=-1)]: Using backend LokyBackend with 4 concurrent workers.\n",
      "exception calling callback for <Future at 0x12a9d72d0 state=finished raised TerminatedWorkerError>\n",
      "Traceback (most recent call last):\n",
      "  File \"/usr/local/lib/python3.7/site-packages/joblib/externals/loky/_base.py\", line 625, in _invoke_callbacks\n",
      "    callback(self)\n",
      "  File \"/usr/local/lib/python3.7/site-packages/joblib/parallel.py\", line 340, in __call__\n",
      "    self.parallel.dispatch_next()\n",
      "  File \"/usr/local/lib/python3.7/site-packages/joblib/parallel.py\", line 768, in dispatch_next\n",
      "    if not self.dispatch_one_batch(self._original_iterator):\n",
      "  File \"/usr/local/lib/python3.7/site-packages/joblib/parallel.py\", line 834, in dispatch_one_batch\n",
      "    self._dispatch(tasks)\n",
      "  File \"/usr/local/lib/python3.7/site-packages/joblib/parallel.py\", line 753, in _dispatch\n",
      "    job = self._backend.apply_async(batch, callback=cb)\n",
      "  File \"/usr/local/lib/python3.7/site-packages/joblib/_parallel_backends.py\", line 543, in apply_async\n",
      "    future = self._workers.submit(SafeFunction(func))\n",
      "  File \"/usr/local/lib/python3.7/site-packages/joblib/externals/loky/reusable_executor.py\", line 160, in submit\n",
      "    fn, *args, **kwargs)\n",
      "  File \"/usr/local/lib/python3.7/site-packages/joblib/externals/loky/process_executor.py\", line 1027, in submit\n",
      "    raise self._flags.broken\n",
      "joblib.externals.loky.process_executor.TerminatedWorkerError: A worker process managed by the executor was unexpectedly terminated. This could be caused by a segmentation fault while calling the function or by an excessive memory usage causing the Operating System to kill the worker. The exit codes of the workers are {SIGABRT(-6), SIGABRT(-6), SIGABRT(-6), SIGABRT(-6)}\n"
     ]
    },
    {
     "ename": "TerminatedWorkerError",
     "evalue": "A worker process managed by the executor was unexpectedly terminated. This could be caused by a segmentation fault while calling the function or by an excessive memory usage causing the Operating System to kill the worker. The exit codes of the workers are {SIGABRT(-6), SIGABRT(-6), SIGABRT(-6), SIGABRT(-6)}",
     "output_type": "error",
     "traceback": [
      "\u001b[0;31m---------------------------------------------------------------------------\u001b[0m",
      "\u001b[0;31mFileNotFoundError\u001b[0m                         Traceback (most recent call last)",
      "\u001b[0;32m<ipython-input-58-c18df46a88a2>\u001b[0m in \u001b[0;36m<module>\u001b[0;34m\u001b[0m\n\u001b[1;32m      5\u001b[0m     clf = pickle.load(\n\u001b[0;32m----> 6\u001b[0;31m         \u001b[0mopen\u001b[0m\u001b[0;34m(\u001b[0m\u001b[0mTASK_A2_MODELS_PKL_FILEPATH\u001b[0m\u001b[0;34m,\u001b[0m \u001b[0;34m\"rb\"\u001b[0m\u001b[0;34m)\u001b[0m\u001b[0;34m\u001b[0m\u001b[0;34m\u001b[0m\u001b[0m\n\u001b[0m\u001b[1;32m      7\u001b[0m     )\n",
      "\u001b[0;31mFileNotFoundError\u001b[0m: [Errno 2] No such file or directory: 'models/task_a2_dec_15_v20.pkl'",
      "\nDuring handling of the above exception, another exception occurred:\n",
      "\u001b[0;31mTerminatedWorkerError\u001b[0m                     Traceback (most recent call last)",
      "\u001b[0;32m<ipython-input-58-c18df46a88a2>\u001b[0m in \u001b[0;36m<module>\u001b[0;34m\u001b[0m\n\u001b[1;32m     59\u001b[0m     )\n\u001b[1;32m     60\u001b[0m \u001b[0;34m\u001b[0m\u001b[0m\n\u001b[0;32m---> 61\u001b[0;31m     \u001b[0mclf\u001b[0m\u001b[0;34m.\u001b[0m\u001b[0mfit\u001b[0m\u001b[0;34m(\u001b[0m\u001b[0mX_train_hists\u001b[0m\u001b[0;34m[\u001b[0m\u001b[0;34m:\u001b[0m\u001b[0;36m200\u001b[0m\u001b[0;34m]\u001b[0m\u001b[0;34m,\u001b[0m \u001b[0mY_train\u001b[0m\u001b[0;34m[\u001b[0m\u001b[0;34m:\u001b[0m\u001b[0;36m200\u001b[0m\u001b[0;34m]\u001b[0m\u001b[0;34m)\u001b[0m\u001b[0;34m\u001b[0m\u001b[0;34m\u001b[0m\u001b[0m\n\u001b[0m\u001b[1;32m     62\u001b[0m \u001b[0;31m#     scaler = StandardScaler()\u001b[0m\u001b[0;34m\u001b[0m\u001b[0;34m\u001b[0m\u001b[0;34m\u001b[0m\u001b[0m\n\u001b[1;32m     63\u001b[0m \u001b[0;31m#     X_train_hists = scaler.fit_transform(X_train_hists)\u001b[0m\u001b[0;34m\u001b[0m\u001b[0;34m\u001b[0m\u001b[0;34m\u001b[0m\u001b[0m\n",
      "\u001b[0;32m/usr/local/lib/python3.7/site-packages/sklearn/model_selection/_search.py\u001b[0m in \u001b[0;36mfit\u001b[0;34m(self, X, y, groups, **fit_params)\u001b[0m\n\u001b[1;32m    686\u001b[0m                 \u001b[0;32mreturn\u001b[0m \u001b[0mresults\u001b[0m\u001b[0;34m\u001b[0m\u001b[0;34m\u001b[0m\u001b[0m\n\u001b[1;32m    687\u001b[0m \u001b[0;34m\u001b[0m\u001b[0m\n\u001b[0;32m--> 688\u001b[0;31m             \u001b[0mself\u001b[0m\u001b[0;34m.\u001b[0m\u001b[0m_run_search\u001b[0m\u001b[0;34m(\u001b[0m\u001b[0mevaluate_candidates\u001b[0m\u001b[0;34m)\u001b[0m\u001b[0;34m\u001b[0m\u001b[0;34m\u001b[0m\u001b[0m\n\u001b[0m\u001b[1;32m    689\u001b[0m \u001b[0;34m\u001b[0m\u001b[0m\n\u001b[1;32m    690\u001b[0m         \u001b[0;31m# For multi-metric evaluation, store the best_index_, best_params_ and\u001b[0m\u001b[0;34m\u001b[0m\u001b[0;34m\u001b[0m\u001b[0;34m\u001b[0m\u001b[0m\n",
      "\u001b[0;32m/usr/local/lib/python3.7/site-packages/sklearn/model_selection/_search.py\u001b[0m in \u001b[0;36m_run_search\u001b[0;34m(self, evaluate_candidates)\u001b[0m\n\u001b[1;32m   1147\u001b[0m     \u001b[0;32mdef\u001b[0m \u001b[0m_run_search\u001b[0m\u001b[0;34m(\u001b[0m\u001b[0mself\u001b[0m\u001b[0;34m,\u001b[0m \u001b[0mevaluate_candidates\u001b[0m\u001b[0;34m)\u001b[0m\u001b[0;34m:\u001b[0m\u001b[0;34m\u001b[0m\u001b[0;34m\u001b[0m\u001b[0m\n\u001b[1;32m   1148\u001b[0m         \u001b[0;34m\"\"\"Search all candidates in param_grid\"\"\"\u001b[0m\u001b[0;34m\u001b[0m\u001b[0;34m\u001b[0m\u001b[0m\n\u001b[0;32m-> 1149\u001b[0;31m         \u001b[0mevaluate_candidates\u001b[0m\u001b[0;34m(\u001b[0m\u001b[0mParameterGrid\u001b[0m\u001b[0;34m(\u001b[0m\u001b[0mself\u001b[0m\u001b[0;34m.\u001b[0m\u001b[0mparam_grid\u001b[0m\u001b[0;34m)\u001b[0m\u001b[0;34m)\u001b[0m\u001b[0;34m\u001b[0m\u001b[0;34m\u001b[0m\u001b[0m\n\u001b[0m\u001b[1;32m   1150\u001b[0m \u001b[0;34m\u001b[0m\u001b[0m\n\u001b[1;32m   1151\u001b[0m \u001b[0;34m\u001b[0m\u001b[0m\n",
      "\u001b[0;32m/usr/local/lib/python3.7/site-packages/sklearn/model_selection/_search.py\u001b[0m in \u001b[0;36mevaluate_candidates\u001b[0;34m(candidate_params)\u001b[0m\n\u001b[1;32m    665\u001b[0m                                \u001b[0;32mfor\u001b[0m \u001b[0mparameters\u001b[0m\u001b[0;34m,\u001b[0m \u001b[0;34m(\u001b[0m\u001b[0mtrain\u001b[0m\u001b[0;34m,\u001b[0m \u001b[0mtest\u001b[0m\u001b[0;34m)\u001b[0m\u001b[0;34m\u001b[0m\u001b[0;34m\u001b[0m\u001b[0m\n\u001b[1;32m    666\u001b[0m                                in product(candidate_params,\n\u001b[0;32m--> 667\u001b[0;31m                                           cv.split(X, y, groups)))\n\u001b[0m\u001b[1;32m    668\u001b[0m \u001b[0;34m\u001b[0m\u001b[0m\n\u001b[1;32m    669\u001b[0m                 \u001b[0;32mif\u001b[0m \u001b[0mlen\u001b[0m\u001b[0;34m(\u001b[0m\u001b[0mout\u001b[0m\u001b[0;34m)\u001b[0m \u001b[0;34m<\u001b[0m \u001b[0;36m1\u001b[0m\u001b[0;34m:\u001b[0m\u001b[0;34m\u001b[0m\u001b[0;34m\u001b[0m\u001b[0m\n",
      "\u001b[0;32m/usr/local/lib/python3.7/site-packages/joblib/parallel.py\u001b[0m in \u001b[0;36m__call__\u001b[0;34m(self, iterable)\u001b[0m\n\u001b[1;32m   1014\u001b[0m \u001b[0;34m\u001b[0m\u001b[0m\n\u001b[1;32m   1015\u001b[0m             \u001b[0;32mwith\u001b[0m \u001b[0mself\u001b[0m\u001b[0;34m.\u001b[0m\u001b[0m_backend\u001b[0m\u001b[0;34m.\u001b[0m\u001b[0mretrieval_context\u001b[0m\u001b[0;34m(\u001b[0m\u001b[0;34m)\u001b[0m\u001b[0;34m:\u001b[0m\u001b[0;34m\u001b[0m\u001b[0;34m\u001b[0m\u001b[0m\n\u001b[0;32m-> 1016\u001b[0;31m                 \u001b[0mself\u001b[0m\u001b[0;34m.\u001b[0m\u001b[0mretrieve\u001b[0m\u001b[0;34m(\u001b[0m\u001b[0;34m)\u001b[0m\u001b[0;34m\u001b[0m\u001b[0;34m\u001b[0m\u001b[0m\n\u001b[0m\u001b[1;32m   1017\u001b[0m             \u001b[0;31m# Make sure that we get a last message telling us we are done\u001b[0m\u001b[0;34m\u001b[0m\u001b[0;34m\u001b[0m\u001b[0;34m\u001b[0m\u001b[0m\n\u001b[1;32m   1018\u001b[0m             \u001b[0melapsed_time\u001b[0m \u001b[0;34m=\u001b[0m \u001b[0mtime\u001b[0m\u001b[0;34m.\u001b[0m\u001b[0mtime\u001b[0m\u001b[0;34m(\u001b[0m\u001b[0;34m)\u001b[0m \u001b[0;34m-\u001b[0m \u001b[0mself\u001b[0m\u001b[0;34m.\u001b[0m\u001b[0m_start_time\u001b[0m\u001b[0;34m\u001b[0m\u001b[0;34m\u001b[0m\u001b[0m\n",
      "\u001b[0;32m/usr/local/lib/python3.7/site-packages/joblib/parallel.py\u001b[0m in \u001b[0;36mretrieve\u001b[0;34m(self)\u001b[0m\n\u001b[1;32m    906\u001b[0m             \u001b[0;32mtry\u001b[0m\u001b[0;34m:\u001b[0m\u001b[0;34m\u001b[0m\u001b[0;34m\u001b[0m\u001b[0m\n\u001b[1;32m    907\u001b[0m                 \u001b[0;32mif\u001b[0m \u001b[0mgetattr\u001b[0m\u001b[0;34m(\u001b[0m\u001b[0mself\u001b[0m\u001b[0;34m.\u001b[0m\u001b[0m_backend\u001b[0m\u001b[0;34m,\u001b[0m \u001b[0;34m'supports_timeout'\u001b[0m\u001b[0;34m,\u001b[0m \u001b[0;32mFalse\u001b[0m\u001b[0;34m)\u001b[0m\u001b[0;34m:\u001b[0m\u001b[0;34m\u001b[0m\u001b[0;34m\u001b[0m\u001b[0m\n\u001b[0;32m--> 908\u001b[0;31m                     \u001b[0mself\u001b[0m\u001b[0;34m.\u001b[0m\u001b[0m_output\u001b[0m\u001b[0;34m.\u001b[0m\u001b[0mextend\u001b[0m\u001b[0;34m(\u001b[0m\u001b[0mjob\u001b[0m\u001b[0;34m.\u001b[0m\u001b[0mget\u001b[0m\u001b[0;34m(\u001b[0m\u001b[0mtimeout\u001b[0m\u001b[0;34m=\u001b[0m\u001b[0mself\u001b[0m\u001b[0;34m.\u001b[0m\u001b[0mtimeout\u001b[0m\u001b[0;34m)\u001b[0m\u001b[0;34m)\u001b[0m\u001b[0;34m\u001b[0m\u001b[0;34m\u001b[0m\u001b[0m\n\u001b[0m\u001b[1;32m    909\u001b[0m                 \u001b[0;32melse\u001b[0m\u001b[0;34m:\u001b[0m\u001b[0;34m\u001b[0m\u001b[0;34m\u001b[0m\u001b[0m\n\u001b[1;32m    910\u001b[0m                     \u001b[0mself\u001b[0m\u001b[0;34m.\u001b[0m\u001b[0m_output\u001b[0m\u001b[0;34m.\u001b[0m\u001b[0mextend\u001b[0m\u001b[0;34m(\u001b[0m\u001b[0mjob\u001b[0m\u001b[0;34m.\u001b[0m\u001b[0mget\u001b[0m\u001b[0;34m(\u001b[0m\u001b[0;34m)\u001b[0m\u001b[0;34m)\u001b[0m\u001b[0;34m\u001b[0m\u001b[0;34m\u001b[0m\u001b[0m\n",
      "\u001b[0;32m/usr/local/lib/python3.7/site-packages/joblib/_parallel_backends.py\u001b[0m in \u001b[0;36mwrap_future_result\u001b[0;34m(future, timeout)\u001b[0m\n\u001b[1;32m    552\u001b[0m         AsyncResults.get from multiprocessing.\"\"\"\n\u001b[1;32m    553\u001b[0m         \u001b[0;32mtry\u001b[0m\u001b[0;34m:\u001b[0m\u001b[0;34m\u001b[0m\u001b[0;34m\u001b[0m\u001b[0m\n\u001b[0;32m--> 554\u001b[0;31m             \u001b[0;32mreturn\u001b[0m \u001b[0mfuture\u001b[0m\u001b[0;34m.\u001b[0m\u001b[0mresult\u001b[0m\u001b[0;34m(\u001b[0m\u001b[0mtimeout\u001b[0m\u001b[0;34m=\u001b[0m\u001b[0mtimeout\u001b[0m\u001b[0;34m)\u001b[0m\u001b[0;34m\u001b[0m\u001b[0;34m\u001b[0m\u001b[0m\n\u001b[0m\u001b[1;32m    555\u001b[0m         \u001b[0;32mexcept\u001b[0m \u001b[0mLokyTimeoutError\u001b[0m\u001b[0;34m:\u001b[0m\u001b[0;34m\u001b[0m\u001b[0;34m\u001b[0m\u001b[0m\n\u001b[1;32m    556\u001b[0m             \u001b[0;32mraise\u001b[0m \u001b[0mTimeoutError\u001b[0m\u001b[0;34m(\u001b[0m\u001b[0;34m)\u001b[0m\u001b[0;34m\u001b[0m\u001b[0;34m\u001b[0m\u001b[0m\n",
      "\u001b[0;32m/usr/local/Cellar/python/3.7.5/Frameworks/Python.framework/Versions/3.7/lib/python3.7/concurrent/futures/_base.py\u001b[0m in \u001b[0;36mresult\u001b[0;34m(self, timeout)\u001b[0m\n\u001b[1;32m    433\u001b[0m                 \u001b[0;32mraise\u001b[0m \u001b[0mCancelledError\u001b[0m\u001b[0;34m(\u001b[0m\u001b[0;34m)\u001b[0m\u001b[0;34m\u001b[0m\u001b[0;34m\u001b[0m\u001b[0m\n\u001b[1;32m    434\u001b[0m             \u001b[0;32melif\u001b[0m \u001b[0mself\u001b[0m\u001b[0;34m.\u001b[0m\u001b[0m_state\u001b[0m \u001b[0;34m==\u001b[0m \u001b[0mFINISHED\u001b[0m\u001b[0;34m:\u001b[0m\u001b[0;34m\u001b[0m\u001b[0;34m\u001b[0m\u001b[0m\n\u001b[0;32m--> 435\u001b[0;31m                 \u001b[0;32mreturn\u001b[0m \u001b[0mself\u001b[0m\u001b[0;34m.\u001b[0m\u001b[0m__get_result\u001b[0m\u001b[0;34m(\u001b[0m\u001b[0;34m)\u001b[0m\u001b[0;34m\u001b[0m\u001b[0;34m\u001b[0m\u001b[0m\n\u001b[0m\u001b[1;32m    436\u001b[0m             \u001b[0;32melse\u001b[0m\u001b[0;34m:\u001b[0m\u001b[0;34m\u001b[0m\u001b[0;34m\u001b[0m\u001b[0m\n\u001b[1;32m    437\u001b[0m                 \u001b[0;32mraise\u001b[0m \u001b[0mTimeoutError\u001b[0m\u001b[0;34m(\u001b[0m\u001b[0;34m)\u001b[0m\u001b[0;34m\u001b[0m\u001b[0;34m\u001b[0m\u001b[0m\n",
      "\u001b[0;32m/usr/local/Cellar/python/3.7.5/Frameworks/Python.framework/Versions/3.7/lib/python3.7/concurrent/futures/_base.py\u001b[0m in \u001b[0;36m__get_result\u001b[0;34m(self)\u001b[0m\n\u001b[1;32m    382\u001b[0m     \u001b[0;32mdef\u001b[0m \u001b[0m__get_result\u001b[0m\u001b[0;34m(\u001b[0m\u001b[0mself\u001b[0m\u001b[0;34m)\u001b[0m\u001b[0;34m:\u001b[0m\u001b[0;34m\u001b[0m\u001b[0;34m\u001b[0m\u001b[0m\n\u001b[1;32m    383\u001b[0m         \u001b[0;32mif\u001b[0m \u001b[0mself\u001b[0m\u001b[0;34m.\u001b[0m\u001b[0m_exception\u001b[0m\u001b[0;34m:\u001b[0m\u001b[0;34m\u001b[0m\u001b[0;34m\u001b[0m\u001b[0m\n\u001b[0;32m--> 384\u001b[0;31m             \u001b[0;32mraise\u001b[0m \u001b[0mself\u001b[0m\u001b[0;34m.\u001b[0m\u001b[0m_exception\u001b[0m\u001b[0;34m\u001b[0m\u001b[0;34m\u001b[0m\u001b[0m\n\u001b[0m\u001b[1;32m    385\u001b[0m         \u001b[0;32melse\u001b[0m\u001b[0;34m:\u001b[0m\u001b[0;34m\u001b[0m\u001b[0;34m\u001b[0m\u001b[0m\n\u001b[1;32m    386\u001b[0m             \u001b[0;32mreturn\u001b[0m \u001b[0mself\u001b[0m\u001b[0;34m.\u001b[0m\u001b[0m_result\u001b[0m\u001b[0;34m\u001b[0m\u001b[0;34m\u001b[0m\u001b[0m\n",
      "\u001b[0;32m/usr/local/lib/python3.7/site-packages/joblib/externals/loky/_base.py\u001b[0m in \u001b[0;36m_invoke_callbacks\u001b[0;34m(self)\u001b[0m\n\u001b[1;32m    623\u001b[0m         \u001b[0;32mfor\u001b[0m \u001b[0mcallback\u001b[0m \u001b[0;32min\u001b[0m \u001b[0mself\u001b[0m\u001b[0;34m.\u001b[0m\u001b[0m_done_callbacks\u001b[0m\u001b[0;34m:\u001b[0m\u001b[0;34m\u001b[0m\u001b[0;34m\u001b[0m\u001b[0m\n\u001b[1;32m    624\u001b[0m             \u001b[0;32mtry\u001b[0m\u001b[0;34m:\u001b[0m\u001b[0;34m\u001b[0m\u001b[0;34m\u001b[0m\u001b[0m\n\u001b[0;32m--> 625\u001b[0;31m                 \u001b[0mcallback\u001b[0m\u001b[0;34m(\u001b[0m\u001b[0mself\u001b[0m\u001b[0;34m)\u001b[0m\u001b[0;34m\u001b[0m\u001b[0;34m\u001b[0m\u001b[0m\n\u001b[0m\u001b[1;32m    626\u001b[0m             \u001b[0;32mexcept\u001b[0m \u001b[0mBaseException\u001b[0m\u001b[0;34m:\u001b[0m\u001b[0;34m\u001b[0m\u001b[0;34m\u001b[0m\u001b[0m\n\u001b[1;32m    627\u001b[0m                 \u001b[0mLOGGER\u001b[0m\u001b[0;34m.\u001b[0m\u001b[0mexception\u001b[0m\u001b[0;34m(\u001b[0m\u001b[0;34m'exception calling callback for %r'\u001b[0m\u001b[0;34m,\u001b[0m \u001b[0mself\u001b[0m\u001b[0;34m)\u001b[0m\u001b[0;34m\u001b[0m\u001b[0;34m\u001b[0m\u001b[0m\n",
      "\u001b[0;32m/usr/local/lib/python3.7/site-packages/joblib/parallel.py\u001b[0m in \u001b[0;36m__call__\u001b[0;34m(self, out)\u001b[0m\n\u001b[1;32m    338\u001b[0m         \u001b[0;32mwith\u001b[0m \u001b[0mself\u001b[0m\u001b[0;34m.\u001b[0m\u001b[0mparallel\u001b[0m\u001b[0;34m.\u001b[0m\u001b[0m_lock\u001b[0m\u001b[0;34m:\u001b[0m\u001b[0;34m\u001b[0m\u001b[0;34m\u001b[0m\u001b[0m\n\u001b[1;32m    339\u001b[0m             \u001b[0;32mif\u001b[0m \u001b[0mself\u001b[0m\u001b[0;34m.\u001b[0m\u001b[0mparallel\u001b[0m\u001b[0;34m.\u001b[0m\u001b[0m_original_iterator\u001b[0m \u001b[0;32mis\u001b[0m \u001b[0;32mnot\u001b[0m \u001b[0;32mNone\u001b[0m\u001b[0;34m:\u001b[0m\u001b[0;34m\u001b[0m\u001b[0;34m\u001b[0m\u001b[0m\n\u001b[0;32m--> 340\u001b[0;31m                 \u001b[0mself\u001b[0m\u001b[0;34m.\u001b[0m\u001b[0mparallel\u001b[0m\u001b[0;34m.\u001b[0m\u001b[0mdispatch_next\u001b[0m\u001b[0;34m(\u001b[0m\u001b[0;34m)\u001b[0m\u001b[0;34m\u001b[0m\u001b[0;34m\u001b[0m\u001b[0m\n\u001b[0m\u001b[1;32m    341\u001b[0m \u001b[0;34m\u001b[0m\u001b[0m\n\u001b[1;32m    342\u001b[0m \u001b[0;34m\u001b[0m\u001b[0m\n",
      "\u001b[0;32m/usr/local/lib/python3.7/site-packages/joblib/parallel.py\u001b[0m in \u001b[0;36mdispatch_next\u001b[0;34m(self)\u001b[0m\n\u001b[1;32m    766\u001b[0m \u001b[0;34m\u001b[0m\u001b[0m\n\u001b[1;32m    767\u001b[0m         \"\"\"\n\u001b[0;32m--> 768\u001b[0;31m         \u001b[0;32mif\u001b[0m \u001b[0;32mnot\u001b[0m \u001b[0mself\u001b[0m\u001b[0;34m.\u001b[0m\u001b[0mdispatch_one_batch\u001b[0m\u001b[0;34m(\u001b[0m\u001b[0mself\u001b[0m\u001b[0;34m.\u001b[0m\u001b[0m_original_iterator\u001b[0m\u001b[0;34m)\u001b[0m\u001b[0;34m:\u001b[0m\u001b[0;34m\u001b[0m\u001b[0;34m\u001b[0m\u001b[0m\n\u001b[0m\u001b[1;32m    769\u001b[0m             \u001b[0mself\u001b[0m\u001b[0;34m.\u001b[0m\u001b[0m_iterating\u001b[0m \u001b[0;34m=\u001b[0m \u001b[0;32mFalse\u001b[0m\u001b[0;34m\u001b[0m\u001b[0;34m\u001b[0m\u001b[0m\n\u001b[1;32m    770\u001b[0m             \u001b[0mself\u001b[0m\u001b[0;34m.\u001b[0m\u001b[0m_original_iterator\u001b[0m \u001b[0;34m=\u001b[0m \u001b[0;32mNone\u001b[0m\u001b[0;34m\u001b[0m\u001b[0;34m\u001b[0m\u001b[0m\n",
      "\u001b[0;32m/usr/local/lib/python3.7/site-packages/joblib/parallel.py\u001b[0m in \u001b[0;36mdispatch_one_batch\u001b[0;34m(self, iterator)\u001b[0m\n\u001b[1;32m    832\u001b[0m                 \u001b[0;32mreturn\u001b[0m \u001b[0;32mFalse\u001b[0m\u001b[0;34m\u001b[0m\u001b[0;34m\u001b[0m\u001b[0m\n\u001b[1;32m    833\u001b[0m             \u001b[0;32melse\u001b[0m\u001b[0;34m:\u001b[0m\u001b[0;34m\u001b[0m\u001b[0;34m\u001b[0m\u001b[0m\n\u001b[0;32m--> 834\u001b[0;31m                 \u001b[0mself\u001b[0m\u001b[0;34m.\u001b[0m\u001b[0m_dispatch\u001b[0m\u001b[0;34m(\u001b[0m\u001b[0mtasks\u001b[0m\u001b[0;34m)\u001b[0m\u001b[0;34m\u001b[0m\u001b[0;34m\u001b[0m\u001b[0m\n\u001b[0m\u001b[1;32m    835\u001b[0m                 \u001b[0;32mreturn\u001b[0m \u001b[0;32mTrue\u001b[0m\u001b[0;34m\u001b[0m\u001b[0;34m\u001b[0m\u001b[0m\n\u001b[1;32m    836\u001b[0m \u001b[0;34m\u001b[0m\u001b[0m\n",
      "\u001b[0;32m/usr/local/lib/python3.7/site-packages/joblib/parallel.py\u001b[0m in \u001b[0;36m_dispatch\u001b[0;34m(self, batch)\u001b[0m\n\u001b[1;32m    751\u001b[0m         \u001b[0;32mwith\u001b[0m \u001b[0mself\u001b[0m\u001b[0;34m.\u001b[0m\u001b[0m_lock\u001b[0m\u001b[0;34m:\u001b[0m\u001b[0;34m\u001b[0m\u001b[0;34m\u001b[0m\u001b[0m\n\u001b[1;32m    752\u001b[0m             \u001b[0mjob_idx\u001b[0m \u001b[0;34m=\u001b[0m \u001b[0mlen\u001b[0m\u001b[0;34m(\u001b[0m\u001b[0mself\u001b[0m\u001b[0;34m.\u001b[0m\u001b[0m_jobs\u001b[0m\u001b[0;34m)\u001b[0m\u001b[0;34m\u001b[0m\u001b[0;34m\u001b[0m\u001b[0m\n\u001b[0;32m--> 753\u001b[0;31m             \u001b[0mjob\u001b[0m \u001b[0;34m=\u001b[0m \u001b[0mself\u001b[0m\u001b[0;34m.\u001b[0m\u001b[0m_backend\u001b[0m\u001b[0;34m.\u001b[0m\u001b[0mapply_async\u001b[0m\u001b[0;34m(\u001b[0m\u001b[0mbatch\u001b[0m\u001b[0;34m,\u001b[0m \u001b[0mcallback\u001b[0m\u001b[0;34m=\u001b[0m\u001b[0mcb\u001b[0m\u001b[0;34m)\u001b[0m\u001b[0;34m\u001b[0m\u001b[0;34m\u001b[0m\u001b[0m\n\u001b[0m\u001b[1;32m    754\u001b[0m             \u001b[0;31m# A job can complete so quickly than its callback is\u001b[0m\u001b[0;34m\u001b[0m\u001b[0;34m\u001b[0m\u001b[0;34m\u001b[0m\u001b[0m\n\u001b[1;32m    755\u001b[0m             \u001b[0;31m# called before we get here, causing self._jobs to\u001b[0m\u001b[0;34m\u001b[0m\u001b[0;34m\u001b[0m\u001b[0;34m\u001b[0m\u001b[0m\n",
      "\u001b[0;32m/usr/local/lib/python3.7/site-packages/joblib/_parallel_backends.py\u001b[0m in \u001b[0;36mapply_async\u001b[0;34m(self, func, callback)\u001b[0m\n\u001b[1;32m    541\u001b[0m     \u001b[0;32mdef\u001b[0m \u001b[0mapply_async\u001b[0m\u001b[0;34m(\u001b[0m\u001b[0mself\u001b[0m\u001b[0;34m,\u001b[0m \u001b[0mfunc\u001b[0m\u001b[0;34m,\u001b[0m \u001b[0mcallback\u001b[0m\u001b[0;34m=\u001b[0m\u001b[0;32mNone\u001b[0m\u001b[0;34m)\u001b[0m\u001b[0;34m:\u001b[0m\u001b[0;34m\u001b[0m\u001b[0;34m\u001b[0m\u001b[0m\n\u001b[1;32m    542\u001b[0m         \u001b[0;34m\"\"\"Schedule a func to be run\"\"\"\u001b[0m\u001b[0;34m\u001b[0m\u001b[0;34m\u001b[0m\u001b[0m\n\u001b[0;32m--> 543\u001b[0;31m         \u001b[0mfuture\u001b[0m \u001b[0;34m=\u001b[0m \u001b[0mself\u001b[0m\u001b[0;34m.\u001b[0m\u001b[0m_workers\u001b[0m\u001b[0;34m.\u001b[0m\u001b[0msubmit\u001b[0m\u001b[0;34m(\u001b[0m\u001b[0mSafeFunction\u001b[0m\u001b[0;34m(\u001b[0m\u001b[0mfunc\u001b[0m\u001b[0;34m)\u001b[0m\u001b[0;34m)\u001b[0m\u001b[0;34m\u001b[0m\u001b[0;34m\u001b[0m\u001b[0m\n\u001b[0m\u001b[1;32m    544\u001b[0m         \u001b[0mfuture\u001b[0m\u001b[0;34m.\u001b[0m\u001b[0mget\u001b[0m \u001b[0;34m=\u001b[0m \u001b[0mfunctools\u001b[0m\u001b[0;34m.\u001b[0m\u001b[0mpartial\u001b[0m\u001b[0;34m(\u001b[0m\u001b[0mself\u001b[0m\u001b[0;34m.\u001b[0m\u001b[0mwrap_future_result\u001b[0m\u001b[0;34m,\u001b[0m \u001b[0mfuture\u001b[0m\u001b[0;34m)\u001b[0m\u001b[0;34m\u001b[0m\u001b[0;34m\u001b[0m\u001b[0m\n\u001b[1;32m    545\u001b[0m         \u001b[0;32mif\u001b[0m \u001b[0mcallback\u001b[0m \u001b[0;32mis\u001b[0m \u001b[0;32mnot\u001b[0m \u001b[0;32mNone\u001b[0m\u001b[0;34m:\u001b[0m\u001b[0;34m\u001b[0m\u001b[0;34m\u001b[0m\u001b[0m\n",
      "\u001b[0;32m/usr/local/lib/python3.7/site-packages/joblib/externals/loky/reusable_executor.py\u001b[0m in \u001b[0;36msubmit\u001b[0;34m(self, fn, *args, **kwargs)\u001b[0m\n\u001b[1;32m    158\u001b[0m         \u001b[0;32mwith\u001b[0m \u001b[0mself\u001b[0m\u001b[0;34m.\u001b[0m\u001b[0m_submit_resize_lock\u001b[0m\u001b[0;34m:\u001b[0m\u001b[0;34m\u001b[0m\u001b[0;34m\u001b[0m\u001b[0m\n\u001b[1;32m    159\u001b[0m             return super(_ReusablePoolExecutor, self).submit(\n\u001b[0;32m--> 160\u001b[0;31m                 fn, *args, **kwargs)\n\u001b[0m\u001b[1;32m    161\u001b[0m \u001b[0;34m\u001b[0m\u001b[0m\n\u001b[1;32m    162\u001b[0m     \u001b[0;32mdef\u001b[0m \u001b[0m_resize\u001b[0m\u001b[0;34m(\u001b[0m\u001b[0mself\u001b[0m\u001b[0;34m,\u001b[0m \u001b[0mmax_workers\u001b[0m\u001b[0;34m)\u001b[0m\u001b[0;34m:\u001b[0m\u001b[0;34m\u001b[0m\u001b[0;34m\u001b[0m\u001b[0m\n",
      "\u001b[0;32m/usr/local/lib/python3.7/site-packages/joblib/externals/loky/process_executor.py\u001b[0m in \u001b[0;36msubmit\u001b[0;34m(self, fn, *args, **kwargs)\u001b[0m\n\u001b[1;32m   1025\u001b[0m         \u001b[0;32mwith\u001b[0m \u001b[0mself\u001b[0m\u001b[0;34m.\u001b[0m\u001b[0m_flags\u001b[0m\u001b[0;34m.\u001b[0m\u001b[0mshutdown_lock\u001b[0m\u001b[0;34m:\u001b[0m\u001b[0;34m\u001b[0m\u001b[0;34m\u001b[0m\u001b[0m\n\u001b[1;32m   1026\u001b[0m             \u001b[0;32mif\u001b[0m \u001b[0mself\u001b[0m\u001b[0;34m.\u001b[0m\u001b[0m_flags\u001b[0m\u001b[0;34m.\u001b[0m\u001b[0mbroken\u001b[0m \u001b[0;32mis\u001b[0m \u001b[0;32mnot\u001b[0m \u001b[0;32mNone\u001b[0m\u001b[0;34m:\u001b[0m\u001b[0;34m\u001b[0m\u001b[0;34m\u001b[0m\u001b[0m\n\u001b[0;32m-> 1027\u001b[0;31m                 \u001b[0;32mraise\u001b[0m \u001b[0mself\u001b[0m\u001b[0;34m.\u001b[0m\u001b[0m_flags\u001b[0m\u001b[0;34m.\u001b[0m\u001b[0mbroken\u001b[0m\u001b[0;34m\u001b[0m\u001b[0;34m\u001b[0m\u001b[0m\n\u001b[0m\u001b[1;32m   1028\u001b[0m             \u001b[0;32mif\u001b[0m \u001b[0mself\u001b[0m\u001b[0;34m.\u001b[0m\u001b[0m_flags\u001b[0m\u001b[0;34m.\u001b[0m\u001b[0mshutdown\u001b[0m\u001b[0;34m:\u001b[0m\u001b[0;34m\u001b[0m\u001b[0;34m\u001b[0m\u001b[0m\n\u001b[1;32m   1029\u001b[0m                 raise ShutdownExecutorError(\n",
      "\u001b[0;31mTerminatedWorkerError\u001b[0m: A worker process managed by the executor was unexpectedly terminated. This could be caused by a segmentation fault while calling the function or by an excessive memory usage causing the Operating System to kill the worker. The exit codes of the workers are {SIGABRT(-6), SIGABRT(-6), SIGABRT(-6), SIGABRT(-6)}"
     ]
    }
   ],
   "source": [
    "# if local model exists, use them instead of retraining it\n",
    "# otherwise, train the SVM model with gridsearch+k-fold CV\n",
    "try:\n",
    "    TASK_A2_MODELS_PKL_FILEPATH = 'models/task_a2_dec_15_v20.pkl'\n",
    "    clf = pickle.load(\n",
    "        open(TASK_A2_MODELS_PKL_FILEPATH, \"rb\")\n",
    "    )\n",
    "    print(\"local model is found and being used instead of retraining the model\")\n",
    "except (OSError, IOError) as e:\n",
    "    print(\"training SVM (and save the resulted model afterwards to a local pickle file)\")\n",
    "    # SVM hyperparameter tuning\n",
    "    svm_param_candidates = [\n",
    "            {\n",
    "                'kernel': ['rbf'],\n",
    "                'gamma' : [0.0001, 0.001, 0.01, 0.1, 1],\n",
    "                'C'     : [0.1, 1, 10, 100]\n",
    "            },\n",
    "            {\n",
    "                'kernel': ['linear'],\n",
    "                'C'     : [1, 10, 100],\n",
    "            },\n",
    "            {\n",
    "                'kernel': ['poly'],\n",
    "                'degree': [3],\n",
    "                'gamma' : [0.0001, 0.001, 0.01, 0.1, 1],\n",
    "                'C'     : [0.1, 1, 10, 100]\n",
    "            },\n",
    "        ]\n",
    "\n",
    "#     svm_param_candidates = [\n",
    "#         {\n",
    "#             'C'     : [1, 10, 100],\n",
    "#         },\n",
    "#     ]\n",
    "    \n",
    "    # Do grid search and k-cross validation to SVM Classifier\n",
    "#     clf = make_pipeline(\n",
    "#         StandardScaler(),\n",
    "#         GridSearchCV(\n",
    "#             LinearSVC(),\n",
    "#             svm_param_candidates,\n",
    "#             cv = K_CROSSVAL,\n",
    "#             iid = False, # suggested value from sklearn\n",
    "#             n_jobs = -1,\n",
    "#             verbose = 4,\n",
    "#         ),\n",
    "#     )\n",
    "#     from sklearn import preprocessing\n",
    "#     clf = LinearSVC(random_state=0, tol=1e-5, C=1, verbose=True, max_iter=1000000)\n",
    "        \n",
    "    clf = GridSearchCV(\n",
    "        SVC(),\n",
    "        svm_param_candidates,\n",
    "        cv = K_CROSSVAL,\n",
    "        iid = False, # suggested value from sklearn\n",
    "        n_jobs = -1,\n",
    "        verbose = 4,\n",
    "    )\n",
    "\n",
    "    clf.fit(X_train_hists[:200], Y_train[:200])\n",
    "#     scaler = StandardScaler()\n",
    "#     X_train_hists = scaler.fit_transform(X_train_hists)\n",
    "\n",
    "    # numerical stability\n",
    "#     X_train_hists = preprocessing.scale(X_train_hists)\n",
    "#     clf.fit(X_train_hists, Y_train)\n",
    "\n",
    "    \n",
    "    # save all the models resulted to a local pickle\n",
    "    pickle.dump(\n",
    "        clf,\n",
    "        open(TASK_A2_MODELS_PKL_FILEPATH, \"wb\")\n",
    "    )"
   ]
  },
  {
   "cell_type": "code",
   "execution_count": 55,
   "metadata": {},
   "outputs": [
    {
     "ename": "AttributeError",
     "evalue": "'GridSearchCV' object has no attribute 'best_params_'",
     "output_type": "error",
     "traceback": [
      "\u001b[0;31m---------------------------------------------------------------------------\u001b[0m",
      "\u001b[0;31mAttributeError\u001b[0m                            Traceback (most recent call last)",
      "\u001b[0;32m<ipython-input-55-1994c93dfb4d>\u001b[0m in \u001b[0;36m<module>\u001b[0;34m\u001b[0m\n\u001b[1;32m      1\u001b[0m \u001b[0;31m# Best parameters and best result on development set\u001b[0m\u001b[0;34m\u001b[0m\u001b[0;34m\u001b[0m\u001b[0;34m\u001b[0m\u001b[0m\n\u001b[0;32m----> 2\u001b[0;31m \u001b[0mprint\u001b[0m\u001b[0;34m(\u001b[0m\u001b[0;34m'best params : '\u001b[0m\u001b[0;34m,\u001b[0m \u001b[0mclf\u001b[0m\u001b[0;34m.\u001b[0m\u001b[0mbest_params_\u001b[0m\u001b[0;34m)\u001b[0m\u001b[0;34m\u001b[0m\u001b[0;34m\u001b[0m\u001b[0m\n\u001b[0m\u001b[1;32m      3\u001b[0m \u001b[0mprint\u001b[0m\u001b[0;34m(\u001b[0m\u001b[0;34m'mean        : '\u001b[0m\u001b[0;34m,\u001b[0m \u001b[0mclf\u001b[0m\u001b[0;34m.\u001b[0m\u001b[0mcv_results_\u001b[0m\u001b[0;34m[\u001b[0m\u001b[0;34m'mean_test_score'\u001b[0m\u001b[0;34m]\u001b[0m\u001b[0;34m)\u001b[0m\u001b[0;34m\u001b[0m\u001b[0;34m\u001b[0m\u001b[0m\n\u001b[1;32m      4\u001b[0m \u001b[0mprint\u001b[0m\u001b[0;34m(\u001b[0m\u001b[0;34m'stdev       : '\u001b[0m\u001b[0;34m,\u001b[0m \u001b[0mclf\u001b[0m\u001b[0;34m.\u001b[0m\u001b[0mcv_results_\u001b[0m\u001b[0;34m[\u001b[0m\u001b[0;34m'std_test_score'\u001b[0m\u001b[0;34m]\u001b[0m\u001b[0;34m)\u001b[0m\u001b[0;34m\u001b[0m\u001b[0;34m\u001b[0m\u001b[0m\n\u001b[1;32m      5\u001b[0m \u001b[0mprint\u001b[0m\u001b[0;34m(\u001b[0m\u001b[0;34m'params      : '\u001b[0m\u001b[0;34m,\u001b[0m \u001b[0mclf\u001b[0m\u001b[0;34m.\u001b[0m\u001b[0mcv_results_\u001b[0m\u001b[0;34m[\u001b[0m\u001b[0;34m'params'\u001b[0m\u001b[0;34m]\u001b[0m\u001b[0;34m)\u001b[0m\u001b[0;34m\u001b[0m\u001b[0;34m\u001b[0m\u001b[0m\n",
      "\u001b[0;31mAttributeError\u001b[0m: 'GridSearchCV' object has no attribute 'best_params_'"
     ]
    }
   ],
   "source": [
    "# Best parameters and best result on development set\n",
    "print('best params : ', clf.best_params_)\n",
    "print('mean        : ', clf.cv_results_['mean_test_score'])\n",
    "print('stdev       : ', clf.cv_results_['std_test_score'])\n",
    "print('params      : ', clf.cv_results_['params'])\n",
    "print('best estimat: ', clf.best_estimator_)\n",
    "\n",
    "print(clf)"
   ]
  },
  {
   "cell_type": "markdown",
   "metadata": {},
   "source": [
    "### 3.6. Inference\n",
    "\n",
    "Now that the training process is done and we have the model, we will see the accuracy score of this selected model by using testing dataset that the model has never seen before."
   ]
  },
  {
   "cell_type": "code",
   "execution_count": 49,
   "metadata": {},
   "outputs": [
    {
     "name": "stderr",
     "output_type": "stream",
     "text": [
      "100%|██████████| 967/967 [00:01<00:00, 524.81it/s]\n"
     ]
    },
    {
     "name": "stdout",
     "output_type": "stream",
     "text": [
      "acc score  0.8066184074457083\n"
     ]
    }
   ],
   "source": [
    "X_test_hists = convert_raw_images_to_lbp_histograms(\n",
    "    TASK_A2_MOUTH_OUTPUT_DIR,\n",
    "    X_test_filenames,\n",
    "    LBP_PARAMS,\n",
    ")\n",
    "\n",
    "\n",
    "# scaler = StandardScaler()\n",
    "# X_test_hists = scaler.transform(X_test_hists)\n",
    "# X_test_hists = preprocessing.scale(X_test_hists)\n",
    "Y_pred = clf.predict(X_test_hists)\n",
    "\n",
    "print(\"acc score \", accuracy_score(Y_test, Y_pred))"
   ]
  },
  {
   "cell_type": "code",
   "execution_count": null,
   "metadata": {},
   "outputs": [],
   "source": []
  }
 ],
 "metadata": {
  "file_extension": ".py",
  "kernelspec": {
   "display_name": "Python 3",
   "language": "python",
   "name": "python3"
  },
  "language_info": {
   "codemirror_mode": {
    "name": "ipython",
    "version": 3
   },
   "file_extension": ".py",
   "mimetype": "text/x-python",
   "name": "python",
   "nbconvert_exporter": "python",
   "pygments_lexer": "ipython3",
   "version": "3.7.5"
  },
  "mimetype": "text/x-python",
  "name": "python",
  "npconvert_exporter": "python",
  "pygments_lexer": "ipython3",
  "version": 3
 },
 "nbformat": 4,
 "nbformat_minor": 2
}
